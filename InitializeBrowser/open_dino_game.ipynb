{
 "cells": [
  {
   "cell_type": "code",
   "execution_count": 6,
   "metadata": {},
   "outputs": [],
   "source": [
    "from selenium import webdriver\n",
    "from selenium.webdriver.chrome.service import Service\n",
    "from webdriver_manager.chrome import ChromeDriverManager\n",
    "from selenium.webdriver.chrome.options import Options\n",
    "from selenium.common.exceptions import WebDriverException\n",
    "\n",
    "def open_chrome():\n",
    "    # Configure Chrome options\n",
    "    chrome_options = Options()\n",
    "    #chrome_options.add_argument(\"--disable-extensions\")\n",
    "    #chrome_options.add_argument(\"--disable-popup-blocking\")\n",
    "    #chrome_options.add_argument(\"--disable-infobars\")\n",
    "    chrome_options.add_argument(\"--start-maximized\")\n",
    "    #chrome_options.add_argument(\"--enable-offline-mode\")\n",
    "\n",
    "    service = Service(ChromeDriverManager().install())\n",
    "    driver = webdriver.Chrome(service=service, options=chrome_options)\n",
    "\n",
    "    return driver\n",
    "\n",
    "driver = open_chrome()\n",
    "try:\n",
    "    driver.get(\"chrome://dino\")\n",
    "except WebDriverException:\n",
    "    pass\n",
    "\n",
    "#driver.get(\"chrome://dino\")"
   ]
  }
 ],
 "metadata": {
  "kernelspec": {
   "display_name": "SuperDino_env",
   "language": "python",
   "name": "python3"
  },
  "language_info": {
   "codemirror_mode": {
    "name": "ipython",
    "version": 3
   },
   "file_extension": ".py",
   "mimetype": "text/x-python",
   "name": "python",
   "nbconvert_exporter": "python",
   "pygments_lexer": "ipython3",
   "version": "3.10.12"
  }
 },
 "nbformat": 4,
 "nbformat_minor": 2
}
